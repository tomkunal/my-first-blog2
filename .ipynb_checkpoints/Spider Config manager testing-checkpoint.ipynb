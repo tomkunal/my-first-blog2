{
 "cells": [
  {
   "cell_type": "code",
   "execution_count": 1,
   "metadata": {},
   "outputs": [],
   "source": [
    "import pyodbc\n",
    "import pandas as pd\n",
    "import json\n",
    "import uuid\n",
    "import socket\n",
    "import requests\n",
    "from SqlDBUtil import SqlDBUtil\n",
    "import os"
   ]
  },
  {
   "cell_type": "code",
   "execution_count": 4,
   "metadata": {},
   "outputs": [],
   "source": [
    "lstdriverBranch = os.listdir(r\"\\\\builds\\nightly\\displaySanity\")"
   ]
  },
  {
   "cell_type": "code",
   "execution_count": 7,
   "metadata": {},
   "outputs": [],
   "source": [
    "df =pd.DataFrame(lstdriverBranch)"
   ]
  },
  {
   "cell_type": "code",
   "execution_count": 8,
   "metadata": {},
   "outputs": [
    {
     "data": {
      "text/html": [
       "<div>\n",
       "<style scoped>\n",
       "    .dataframe tbody tr th:only-of-type {\n",
       "        vertical-align: middle;\n",
       "    }\n",
       "\n",
       "    .dataframe tbody tr th {\n",
       "        vertical-align: top;\n",
       "    }\n",
       "\n",
       "    .dataframe thead th {\n",
       "        text-align: right;\n",
       "    }\n",
       "</style>\n",
       "<table border=\"1\" class=\"dataframe\">\n",
       "  <thead>\n",
       "    <tr style=\"text-align: right;\">\n",
       "      <th></th>\n",
       "      <th>0</th>\n",
       "    </tr>\n",
       "  </thead>\n",
       "  <tbody>\n",
       "    <tr>\n",
       "      <th>0</th>\n",
       "      <td>bugfix_main</td>\n",
       "    </tr>\n",
       "    <tr>\n",
       "      <th>1</th>\n",
       "      <td>chips_a</td>\n",
       "    </tr>\n",
       "    <tr>\n",
       "      <th>2</th>\n",
       "      <td>r400_00</td>\n",
       "    </tr>\n",
       "    <tr>\n",
       "      <th>3</th>\n",
       "      <td>r415_00</td>\n",
       "    </tr>\n",
       "    <tr>\n",
       "      <th>4</th>\n",
       "      <td>r418_00</td>\n",
       "    </tr>\n",
       "    <tr>\n",
       "      <th>5</th>\n",
       "      <td>r421_00</td>\n",
       "    </tr>\n",
       "    <tr>\n",
       "      <th>6</th>\n",
       "      <td>r435_00</td>\n",
       "    </tr>\n",
       "    <tr>\n",
       "      <th>7</th>\n",
       "      <td>r440_00</td>\n",
       "    </tr>\n",
       "    <tr>\n",
       "      <th>8</th>\n",
       "      <td>r445_00</td>\n",
       "    </tr>\n",
       "    <tr>\n",
       "      <th>9</th>\n",
       "      <td>r450_00</td>\n",
       "    </tr>\n",
       "  </tbody>\n",
       "</table>\n",
       "</div>"
      ],
      "text/plain": [
       "             0\n",
       "0  bugfix_main\n",
       "1      chips_a\n",
       "2      r400_00\n",
       "3      r415_00\n",
       "4      r418_00\n",
       "5      r421_00\n",
       "6      r435_00\n",
       "7      r440_00\n",
       "8      r445_00\n",
       "9      r450_00"
      ]
     },
     "execution_count": 8,
     "metadata": {},
     "output_type": "execute_result"
    }
   ],
   "source": [
    "df.to_"
   ]
  },
  {
   "cell_type": "code",
   "execution_count": 6,
   "metadata": {},
   "outputs": [
    {
     "data": {
      "text/plain": [
       "'{\"results\": [\"bugfix_main\", \"chips_a\", \"r400_00\", \"r415_00\", \"r418_00\", \"r421_00\", \"r435_00\", \"r440_00\", \"r445_00\", \"r450_00\"]}'"
      ]
     },
     "execution_count": 6,
     "metadata": {},
     "output_type": "execute_result"
    }
   ],
   "source": [
    "json.dumps({'results': lstdriverBranch})"
   ]
  },
  {
   "cell_type": "code",
   "execution_count": null,
   "metadata": {},
   "outputs": [],
   "source": []
  },
  {
   "cell_type": "code",
   "execution_count": 5,
   "metadata": {},
   "outputs": [],
   "source": [
    "gettemp = \"http://hqswqadb02/DevtestDBAPI/api/Project/GetLatest20Projects?templateProjectId=1072\""
   ]
  },
  {
   "cell_type": "code",
   "execution_count": 6,
   "metadata": {},
   "outputs": [],
   "source": [
    "Jsonresponse=requests.get(gettemp)"
   ]
  },
  {
   "cell_type": "code",
   "execution_count": 11,
   "metadata": {},
   "outputs": [],
   "source": [
    "lst = json.loads(Jsonresponse.text)"
   ]
  },
  {
   "cell_type": "code",
   "execution_count": 12,
   "metadata": {},
   "outputs": [
    {
     "data": {
      "text/html": [
       "<div>\n",
       "<style scoped>\n",
       "    .dataframe tbody tr th:only-of-type {\n",
       "        vertical-align: middle;\n",
       "    }\n",
       "\n",
       "    .dataframe tbody tr th {\n",
       "        vertical-align: top;\n",
       "    }\n",
       "\n",
       "    .dataframe thead th {\n",
       "        text-align: right;\n",
       "    }\n",
       "</style>\n",
       "<table border=\"1\" class=\"dataframe\">\n",
       "  <thead>\n",
       "    <tr style=\"text-align: right;\">\n",
       "      <th></th>\n",
       "      <th>AccountType</th>\n",
       "      <th>Groups</th>\n",
       "      <th>ProjectDescriptor</th>\n",
       "      <th>ProjectId</th>\n",
       "      <th>ProjectIdentifier</th>\n",
       "      <th>ProjectName</th>\n",
       "      <th>ProjectType</th>\n",
       "      <th>TemplateProjectId</th>\n",
       "    </tr>\n",
       "  </thead>\n",
       "  <tbody>\n",
       "    <tr>\n",
       "      <th>0</th>\n",
       "      <td>None</td>\n",
       "      <td>[]</td>\n",
       "      <td>None</td>\n",
       "      <td>1309</td>\n",
       "      <td>GFN_GS425_1309</td>\n",
       "      <td>GFN Work Project GS4.25</td>\n",
       "      <td>None</td>\n",
       "      <td>1072</td>\n",
       "    </tr>\n",
       "    <tr>\n",
       "      <th>1</th>\n",
       "      <td>None</td>\n",
       "      <td>[]</td>\n",
       "      <td>None</td>\n",
       "      <td>1308</td>\n",
       "      <td>R455</td>\n",
       "      <td>GPU Work Project Vx R455</td>\n",
       "      <td>None</td>\n",
       "      <td>1072</td>\n",
       "    </tr>\n",
       "    <tr>\n",
       "      <th>2</th>\n",
       "      <td>None</td>\n",
       "      <td>[]</td>\n",
       "      <td>None</td>\n",
       "      <td>1307</td>\n",
       "      <td>GFN_GS424_1307</td>\n",
       "      <td>GFN Work Project GS4.24</td>\n",
       "      <td>None</td>\n",
       "      <td>1072</td>\n",
       "    </tr>\n",
       "    <tr>\n",
       "      <th>3</th>\n",
       "      <td>None</td>\n",
       "      <td>[]</td>\n",
       "      <td>None</td>\n",
       "      <td>1306</td>\n",
       "      <td>GFN_GS423_1306</td>\n",
       "      <td>GFN Work Project GS4.23</td>\n",
       "      <td>None</td>\n",
       "      <td>1072</td>\n",
       "    </tr>\n",
       "    <tr>\n",
       "      <th>4</th>\n",
       "      <td>None</td>\n",
       "      <td>[]</td>\n",
       "      <td>None</td>\n",
       "      <td>1305</td>\n",
       "      <td>GRIDSW_110</td>\n",
       "      <td>GRIDSW Work Project 11.x</td>\n",
       "      <td>None</td>\n",
       "      <td>1072</td>\n",
       "    </tr>\n",
       "    <tr>\n",
       "      <th>5</th>\n",
       "      <td>None</td>\n",
       "      <td>[]</td>\n",
       "      <td>None</td>\n",
       "      <td>1304</td>\n",
       "      <td>Cloud_XR</td>\n",
       "      <td>CloudXR Work Project</td>\n",
       "      <td>None</td>\n",
       "      <td>1072</td>\n",
       "    </tr>\n",
       "    <tr>\n",
       "      <th>6</th>\n",
       "      <td>None</td>\n",
       "      <td>[]</td>\n",
       "      <td>None</td>\n",
       "      <td>1303</td>\n",
       "      <td>GFN_GS422_1303</td>\n",
       "      <td>GFN Work Project GS4.22</td>\n",
       "      <td>None</td>\n",
       "      <td>1072</td>\n",
       "    </tr>\n",
       "    <tr>\n",
       "      <th>7</th>\n",
       "      <td>None</td>\n",
       "      <td>[]</td>\n",
       "      <td>None</td>\n",
       "      <td>1302</td>\n",
       "      <td>R450</td>\n",
       "      <td>GPU Work Project Vx R450</td>\n",
       "      <td>None</td>\n",
       "      <td>1072</td>\n",
       "    </tr>\n",
       "    <tr>\n",
       "      <th>8</th>\n",
       "      <td>None</td>\n",
       "      <td>[]</td>\n",
       "      <td>None</td>\n",
       "      <td>1301</td>\n",
       "      <td>GFN_GS421_1301</td>\n",
       "      <td>GFN Work Project GS4.21</td>\n",
       "      <td>None</td>\n",
       "      <td>1072</td>\n",
       "    </tr>\n",
       "    <tr>\n",
       "      <th>9</th>\n",
       "      <td>None</td>\n",
       "      <td>[]</td>\n",
       "      <td>None</td>\n",
       "      <td>1296</td>\n",
       "      <td>GFN_DMO</td>\n",
       "      <td>GFN DMO Work Project</td>\n",
       "      <td>None</td>\n",
       "      <td>1072</td>\n",
       "    </tr>\n",
       "    <tr>\n",
       "      <th>10</th>\n",
       "      <td>None</td>\n",
       "      <td>[]</td>\n",
       "      <td>None</td>\n",
       "      <td>1295</td>\n",
       "      <td>R445</td>\n",
       "      <td>GPU Work Project Vx R445</td>\n",
       "      <td>None</td>\n",
       "      <td>1072</td>\n",
       "    </tr>\n",
       "    <tr>\n",
       "      <th>11</th>\n",
       "      <td>None</td>\n",
       "      <td>[]</td>\n",
       "      <td>None</td>\n",
       "      <td>1294</td>\n",
       "      <td>GFN_GS420_1294</td>\n",
       "      <td>GFN Work Project GS4.20</td>\n",
       "      <td>None</td>\n",
       "      <td>1072</td>\n",
       "    </tr>\n",
       "    <tr>\n",
       "      <th>12</th>\n",
       "      <td>None</td>\n",
       "      <td>[]</td>\n",
       "      <td>None</td>\n",
       "      <td>1293</td>\n",
       "      <td>GFE_321</td>\n",
       "      <td>GFE Work Project 3.21</td>\n",
       "      <td>None</td>\n",
       "      <td>1072</td>\n",
       "    </tr>\n",
       "    <tr>\n",
       "      <th>13</th>\n",
       "      <td>None</td>\n",
       "      <td>[]</td>\n",
       "      <td>None</td>\n",
       "      <td>1292</td>\n",
       "      <td>GRIDSW_LIC_2</td>\n",
       "      <td>GRIDSW Licensing 2.0</td>\n",
       "      <td>None</td>\n",
       "      <td>1072</td>\n",
       "    </tr>\n",
       "    <tr>\n",
       "      <th>14</th>\n",
       "      <td>None</td>\n",
       "      <td>[]</td>\n",
       "      <td>None</td>\n",
       "      <td>1291</td>\n",
       "      <td>GRIDSW_100</td>\n",
       "      <td>GRIDSW Work Project 10.x</td>\n",
       "      <td>None</td>\n",
       "      <td>1072</td>\n",
       "    </tr>\n",
       "    <tr>\n",
       "      <th>15</th>\n",
       "      <td>None</td>\n",
       "      <td>[]</td>\n",
       "      <td>None</td>\n",
       "      <td>1290</td>\n",
       "      <td>GFN_GS419_1290</td>\n",
       "      <td>GFN Work Project GS4.19</td>\n",
       "      <td>None</td>\n",
       "      <td>1072</td>\n",
       "    </tr>\n",
       "    <tr>\n",
       "      <th>16</th>\n",
       "      <td>None</td>\n",
       "      <td>[]</td>\n",
       "      <td>None</td>\n",
       "      <td>1289</td>\n",
       "      <td>GFN_GS418_1289</td>\n",
       "      <td>GFN Work Project GS4.18</td>\n",
       "      <td>None</td>\n",
       "      <td>1072</td>\n",
       "    </tr>\n",
       "    <tr>\n",
       "      <th>17</th>\n",
       "      <td>None</td>\n",
       "      <td>[]</td>\n",
       "      <td>None</td>\n",
       "      <td>1288</td>\n",
       "      <td>GPU_ComputingSafety</td>\n",
       "      <td>GPU Computing Safety Work Project</td>\n",
       "      <td>None</td>\n",
       "      <td>1072</td>\n",
       "    </tr>\n",
       "    <tr>\n",
       "      <th>18</th>\n",
       "      <td>None</td>\n",
       "      <td>[]</td>\n",
       "      <td>None</td>\n",
       "      <td>1287</td>\n",
       "      <td>R440</td>\n",
       "      <td>GPU Work Project Vx R440</td>\n",
       "      <td>None</td>\n",
       "      <td>1072</td>\n",
       "    </tr>\n",
       "    <tr>\n",
       "      <th>19</th>\n",
       "      <td>None</td>\n",
       "      <td>[]</td>\n",
       "      <td>None</td>\n",
       "      <td>1284</td>\n",
       "      <td>GPU_V0B</td>\n",
       "      <td>GPU Work Project For V0b</td>\n",
       "      <td>None</td>\n",
       "      <td>1072</td>\n",
       "    </tr>\n",
       "  </tbody>\n",
       "</table>\n",
       "</div>"
      ],
      "text/plain": [
       "   AccountType Groups ProjectDescriptor  ProjectId    ProjectIdentifier  \\\n",
       "0         None     []              None       1309       GFN_GS425_1309   \n",
       "1         None     []              None       1308                 R455   \n",
       "2         None     []              None       1307       GFN_GS424_1307   \n",
       "3         None     []              None       1306       GFN_GS423_1306   \n",
       "4         None     []              None       1305           GRIDSW_110   \n",
       "5         None     []              None       1304             Cloud_XR   \n",
       "6         None     []              None       1303       GFN_GS422_1303   \n",
       "7         None     []              None       1302                 R450   \n",
       "8         None     []              None       1301       GFN_GS421_1301   \n",
       "9         None     []              None       1296              GFN_DMO   \n",
       "10        None     []              None       1295                 R445   \n",
       "11        None     []              None       1294       GFN_GS420_1294   \n",
       "12        None     []              None       1293              GFE_321   \n",
       "13        None     []              None       1292         GRIDSW_LIC_2   \n",
       "14        None     []              None       1291           GRIDSW_100   \n",
       "15        None     []              None       1290       GFN_GS419_1290   \n",
       "16        None     []              None       1289       GFN_GS418_1289   \n",
       "17        None     []              None       1288  GPU_ComputingSafety   \n",
       "18        None     []              None       1287                 R440   \n",
       "19        None     []              None       1284              GPU_V0B   \n",
       "\n",
       "                          ProjectName ProjectType  TemplateProjectId  \n",
       "0             GFN Work Project GS4.25        None               1072  \n",
       "1            GPU Work Project Vx R455        None               1072  \n",
       "2             GFN Work Project GS4.24        None               1072  \n",
       "3             GFN Work Project GS4.23        None               1072  \n",
       "4            GRIDSW Work Project 11.x        None               1072  \n",
       "5                CloudXR Work Project        None               1072  \n",
       "6             GFN Work Project GS4.22        None               1072  \n",
       "7            GPU Work Project Vx R450        None               1072  \n",
       "8             GFN Work Project GS4.21        None               1072  \n",
       "9                GFN DMO Work Project        None               1072  \n",
       "10           GPU Work Project Vx R445        None               1072  \n",
       "11            GFN Work Project GS4.20        None               1072  \n",
       "12              GFE Work Project 3.21        None               1072  \n",
       "13               GRIDSW Licensing 2.0        None               1072  \n",
       "14           GRIDSW Work Project 10.x        None               1072  \n",
       "15            GFN Work Project GS4.19        None               1072  \n",
       "16            GFN Work Project GS4.18        None               1072  \n",
       "17  GPU Computing Safety Work Project        None               1072  \n",
       "18           GPU Work Project Vx R440        None               1072  \n",
       "19           GPU Work Project For V0b        None               1072  "
      ]
     },
     "execution_count": 12,
     "metadata": {},
     "output_type": "execute_result"
    }
   ],
   "source": [
    "projectdf = pd.DataFrame(lst)"
   ]
  },
  {
   "cell_type": "code",
   "execution_count": null,
   "metadata": {},
   "outputs": [],
   "source": []
  },
  {
   "cell_type": "code",
   "execution_count": null,
   "metadata": {},
   "outputs": [],
   "source": []
  },
  {
   "cell_type": "code",
   "execution_count": null,
   "metadata": {},
   "outputs": [],
   "source": []
  },
  {
   "cell_type": "code",
   "execution_count": 3,
   "metadata": {},
   "outputs": [],
   "source": [
    "release = '1120'\n",
    "requester ='hlahoti'"
   ]
  },
  {
   "cell_type": "code",
   "execution_count": 4,
   "metadata": {},
   "outputs": [],
   "source": [
    "query = \"\"\" SELECT TOP 1000 [Submission_Group_Id],SJT.[Submission_Id],\n",
    "        [Job_Id],[Job_Status] ,[Template_Id]\n",
    "        ,[Sequence] ,[Root_Folder] ,[Job_Start_Time],\n",
    "        [Job_End_Time],[Job_Result] ,[BugId],[ResultPath] FROM [Experi1].[dbo].[Sirius_Job_Table] SJT\n",
    "        left join [Experi1].[dbo].[Sirius_Submission] SS\n",
    "        on SJT.[Submission_Id] = SS.[Submission_Id]  Left join [Experi1].[dbo].[LAT_Analysis_Information] LAT on \n",
    "\t\tSJT.[BAT_Analysis_Id] = LAT.[id]  \n",
    "\t\twhere [Submission_Group_Id] in (20224) \"\"\""
   ]
  },
  {
   "cell_type": "code",
   "execution_count": 38,
   "metadata": {},
   "outputs": [],
   "source": [
    "status , df =SqlDBUtil.execute_select_query_get_df2(query,SqlDBUtil.IT_PROD_SQL174)"
   ]
  },
  {
   "cell_type": "code",
   "execution_count": 39,
   "metadata": {},
   "outputs": [
    {
     "name": "stdout",
     "output_type": "stream",
     "text": [
      "\\\\netapp-pu02\\gpu_qa_pu\\public\\SpiderResultsV2\\DESKTOP-IKG9BOU\\Result_20205211842\\SpiderTestConfigs\\WS_DP_-_Change_Resolution_20550\\TmpId_104752_L_1_Spider_Seq_10-18-165\n"
     ]
    }
   ],
   "source": [
    "print(df['ResultPath'][0])"
   ]
  },
  {
   "cell_type": "code",
   "execution_count": 40,
   "metadata": {},
   "outputs": [],
   "source": [
    "df['ResultPath']=df['ResultPath']+ '\\TestResultDetails.html'"
   ]
  },
  {
   "cell_type": "code",
   "execution_count": 60,
   "metadata": {},
   "outputs": [],
   "source": [
    "df['a'] = df['ResultPath']"
   ]
  },
  {
   "cell_type": "code",
   "execution_count": 61,
   "metadata": {},
   "outputs": [],
   "source": [
    "df['a'] = df['a'].replace(\"\\\\\", \"//\")"
   ]
  },
  {
   "cell_type": "code",
   "execution_count": 62,
   "metadata": {},
   "outputs": [],
   "source": [
    "df['a'] = df['a'].apply(lambda x: '<a href=file:{0}\">LogsLocation</a>'.format(x))"
   ]
  },
  {
   "cell_type": "code",
   "execution_count": 63,
   "metadata": {},
   "outputs": [
    {
     "name": "stdout",
     "output_type": "stream",
     "text": [
      "<a href=file:\\\\netapp-pu02\\gpu_qa_pu\\public\\SpiderResultsV2\\DESKTOP-IKG9BOU\\Result_20205211842\\SpiderTestConfigs\\WS_DP_-_Change_Resolution_20550\\TmpId_104752_L_1_Spider_Seq_10-18-165\\TestResultDetails.html\">LogsLocation</a>\n"
     ]
    }
   ],
   "source": [
    "print(df['a'][0])"
   ]
  },
  {
   "cell_type": "code",
   "execution_count": 59,
   "metadata": {},
   "outputs": [
    {
     "data": {
      "text/plain": [
       "'<a href=file:////netapp-pu02//gpu_qa_pu//public//SpiderResultsV2//DESKTOP-IKG9BOU//Result_20205211842//SpiderTestConfigs//WS_DP_-_Change_Resolution_20550//TmpId_104752_L_1_Spider_Seq_10-18-165//TestResultDetails.html\">link</a>'"
      ]
     },
     "execution_count": 59,
     "metadata": {},
     "output_type": "execute_result"
    }
   ],
   "source": [
    "df['a'][0].replace(\"\\\\\", \"//\")"
   ]
  },
  {
   "cell_type": "code",
   "execution_count": null,
   "metadata": {},
   "outputs": [],
   "source": []
  },
  {
   "cell_type": "code",
   "execution_count": 66,
   "metadata": {},
   "outputs": [],
   "source": [
    " def reverse(self, n: int) -> int:\n",
    "        if (n > 2**16 or n < -(2**31)):\n",
    "            return 0\n",
    "        else :\n",
    "            q = 1\n",
    "            if (n < 0):\n",
    "                q = -1\n",
    "            z=0\n",
    "            while(abs(n)!=0):\n",
    "                y=abs(n)%10\n",
    "                z=z*10+y\n",
    "                if (n > 2**31 or n < -(2**31)):\n",
    "                    return 0 \n",
    "                n=abs(n)//10      \n",
    "            return z * q"
   ]
  },
  {
   "cell_type": "code",
   "execution_count": 68,
   "metadata": {},
   "outputs": [
    {
     "data": {
      "text/plain": [
       "21"
      ]
     },
     "execution_count": 68,
     "metadata": {},
     "output_type": "execute_result"
    }
   ],
   "source": [
    "reverse(12)"
   ]
  },
  {
   "cell_type": "code",
   "execution_count": 85,
   "metadata": {},
   "outputs": [],
   "source": [
    "def containsDuplicate(a):\n",
    "        num = {}\n",
    "        req = []\n",
    "        c = False\n",
    "        for i in range(0,len(a)):\n",
    "            num[a[i]] = 0\n",
    "        for i in range(0,len(a)):\n",
    "            num[a[i]] = num[a[i]] + 1\n",
    "        print(num)\n",
    "        for i in num:\n",
    "            if num[i] > 1 :\n",
    "                c = True\n",
    "                req.append(i)\n",
    "        return req"
   ]
  },
  {
   "cell_type": "code",
   "execution_count": 86,
   "metadata": {},
   "outputs": [
    {
     "name": "stdout",
     "output_type": "stream",
     "text": [
      "{4: 1, 3: 2, 1: 1, 2: 2}\n"
     ]
    },
    {
     "data": {
      "text/plain": [
       "[3, 2]"
      ]
     },
     "execution_count": 86,
     "metadata": {},
     "output_type": "execute_result"
    }
   ],
   "source": [
    "a = [4,3,3,1,2,2]\n",
    "containsDuplicate(a)"
   ]
  },
  {
   "cell_type": "code",
   "execution_count": 51,
   "metadata": {},
   "outputs": [
    {
     "data": {
      "text/html": [
       "<div>\n",
       "<style scoped>\n",
       "    .dataframe tbody tr th:only-of-type {\n",
       "        vertical-align: middle;\n",
       "    }\n",
       "\n",
       "    .dataframe tbody tr th {\n",
       "        vertical-align: top;\n",
       "    }\n",
       "\n",
       "    .dataframe thead th {\n",
       "        text-align: right;\n",
       "    }\n",
       "</style>\n",
       "<table border=\"1\" class=\"dataframe\">\n",
       "  <thead>\n",
       "    <tr style=\"text-align: right;\">\n",
       "      <th></th>\n",
       "      <th>Submission_Group_Id</th>\n",
       "      <th>Submission_Id</th>\n",
       "      <th>Job_Id</th>\n",
       "      <th>Job_Status</th>\n",
       "      <th>Template_Id</th>\n",
       "      <th>Sequence</th>\n",
       "      <th>Root_Folder</th>\n",
       "      <th>Job_Start_Time</th>\n",
       "      <th>Job_End_Time</th>\n",
       "      <th>Job_Result</th>\n",
       "      <th>BugId</th>\n",
       "      <th>ResultPath</th>\n",
       "      <th>a</th>\n",
       "    </tr>\n",
       "  </thead>\n",
       "  <tbody>\n",
       "    <tr>\n",
       "      <th>0</th>\n",
       "      <td>20224</td>\n",
       "      <td>20550</td>\n",
       "      <td>21551</td>\n",
       "      <td>Completed</td>\n",
       "      <td>104752</td>\n",
       "      <td>10-18-165</td>\n",
       "      <td>Library\\\\Multiple_Display\\\\WS_DP\\\\WS_DP_-_Chan...</td>\n",
       "      <td>2020-05-21 19:02:24</td>\n",
       "      <td>2020-05-21 19:04:06</td>\n",
       "      <td>HARDWARE_NOT_AVAILABLE</td>\n",
       "      <td>-1</td>\n",
       "      <td>\\\\netapp-pu02\\gpu_qa_pu\\public\\SpiderResultsV2...</td>\n",
       "      <td>&lt;a href=file:\\\\netapp-pu02\\gpu_qa_pu\\public\\Sp...</td>\n",
       "    </tr>\n",
       "    <tr>\n",
       "      <th>1</th>\n",
       "      <td>20224</td>\n",
       "      <td>20551</td>\n",
       "      <td>21552</td>\n",
       "      <td>Completed</td>\n",
       "      <td>1094489</td>\n",
       "      <td>10-9</td>\n",
       "      <td>Library\\\\User_Experience\\\\Notebook\\\\NB_UX\\\\Swi...</td>\n",
       "      <td>2020-05-21 18:58:44</td>\n",
       "      <td>2020-05-21 19:01:18</td>\n",
       "      <td>HARDWARE_NOT_AVAILABLE</td>\n",
       "      <td>-1</td>\n",
       "      <td>\\\\netapp-pu02\\gpu_qa_pu\\public\\SpiderResultsV2...</td>\n",
       "      <td>&lt;a href=file:\\\\netapp-pu02\\gpu_qa_pu\\public\\Sp...</td>\n",
       "    </tr>\n",
       "    <tr>\n",
       "      <th>2</th>\n",
       "      <td>20224</td>\n",
       "      <td>20552</td>\n",
       "      <td>21553</td>\n",
       "      <td>Completed</td>\n",
       "      <td>1876413</td>\n",
       "      <td>302-304-308-100-32-73-310</td>\n",
       "      <td>PHW\\\\CQI_2018\\\\CQI_Consumer\\\\Sanity\\\\GFE</td>\n",
       "      <td>2020-05-21 18:43:43</td>\n",
       "      <td>2020-05-21 18:57:36</td>\n",
       "      <td>FAIL</td>\n",
       "      <td>2988689</td>\n",
       "      <td>\\\\netapp-pu02\\gpu_qa_pu\\public\\SpiderResultsV2...</td>\n",
       "      <td>&lt;a href=file:\\\\netapp-pu02\\gpu_qa_pu\\public\\Sp...</td>\n",
       "    </tr>\n",
       "  </tbody>\n",
       "</table>\n",
       "</div>"
      ],
      "text/plain": [
       "   Submission_Group_Id  Submission_Id  Job_Id Job_Status Template_Id  \\\n",
       "0                20224          20550   21551  Completed      104752   \n",
       "1                20224          20551   21552  Completed     1094489   \n",
       "2                20224          20552   21553  Completed     1876413   \n",
       "\n",
       "                    Sequence  \\\n",
       "0                  10-18-165   \n",
       "1                       10-9   \n",
       "2  302-304-308-100-32-73-310   \n",
       "\n",
       "                                         Root_Folder      Job_Start_Time  \\\n",
       "0  Library\\\\Multiple_Display\\\\WS_DP\\\\WS_DP_-_Chan... 2020-05-21 19:02:24   \n",
       "1  Library\\\\User_Experience\\\\Notebook\\\\NB_UX\\\\Swi... 2020-05-21 18:58:44   \n",
       "2           PHW\\\\CQI_2018\\\\CQI_Consumer\\\\Sanity\\\\GFE 2020-05-21 18:43:43   \n",
       "\n",
       "         Job_End_Time              Job_Result    BugId  \\\n",
       "0 2020-05-21 19:04:06  HARDWARE_NOT_AVAILABLE       -1   \n",
       "1 2020-05-21 19:01:18  HARDWARE_NOT_AVAILABLE       -1   \n",
       "2 2020-05-21 18:57:36                    FAIL  2988689   \n",
       "\n",
       "                                          ResultPath  \\\n",
       "0  \\\\netapp-pu02\\gpu_qa_pu\\public\\SpiderResultsV2...   \n",
       "1  \\\\netapp-pu02\\gpu_qa_pu\\public\\SpiderResultsV2...   \n",
       "2  \\\\netapp-pu02\\gpu_qa_pu\\public\\SpiderResultsV2...   \n",
       "\n",
       "                                                   a  \n",
       "0  <a href=file:\\\\netapp-pu02\\gpu_qa_pu\\public\\Sp...  \n",
       "1  <a href=file:\\\\netapp-pu02\\gpu_qa_pu\\public\\Sp...  \n",
       "2  <a href=file:\\\\netapp-pu02\\gpu_qa_pu\\public\\Sp...  "
      ]
     },
     "execution_count": 51,
     "metadata": {},
     "output_type": "execute_result"
    }
   ],
   "source": [
    "df"
   ]
  },
  {
   "cell_type": "code",
   "execution_count": 52,
   "metadata": {},
   "outputs": [],
   "source": [
    "df=df.rename(columns={\"IssueID\": \"Task_Id\",\"ProjectID\":\"Project_ID\"})"
   ]
  },
  {
   "cell_type": "code",
   "execution_count": 53,
   "metadata": {},
   "outputs": [
    {
     "ename": "KeyError",
     "evalue": "\"['Project_ID' 'Task_Id'] not in index\"",
     "output_type": "error",
     "traceback": [
      "\u001b[1;31m---------------------------------------------------------------------------\u001b[0m",
      "\u001b[1;31mKeyError\u001b[0m                                  Traceback (most recent call last)",
      "\u001b[1;32m<ipython-input-53-fb95eda38c84>\u001b[0m in \u001b[0;36m<module>\u001b[1;34m\u001b[0m\n\u001b[1;32m----> 1\u001b[1;33m \u001b[0mdf1\u001b[0m\u001b[1;33m=\u001b[0m \u001b[0mdf\u001b[0m\u001b[1;33m[\u001b[0m\u001b[1;33m[\u001b[0m\u001b[1;34m'Project_ID'\u001b[0m\u001b[1;33m,\u001b[0m \u001b[1;34m'Task_Id'\u001b[0m\u001b[1;33m]\u001b[0m\u001b[1;33m]\u001b[0m\u001b[1;33m\u001b[0m\u001b[1;33m\u001b[0m\u001b[0m\n\u001b[0m",
      "\u001b[1;32mc:\\python3\\lib\\site-packages\\pandas\\core\\frame.py\u001b[0m in \u001b[0;36m__getitem__\u001b[1;34m(self, key)\u001b[0m\n\u001b[0;32m   2680\u001b[0m         \u001b[1;32mif\u001b[0m \u001b[0misinstance\u001b[0m\u001b[1;33m(\u001b[0m\u001b[0mkey\u001b[0m\u001b[1;33m,\u001b[0m \u001b[1;33m(\u001b[0m\u001b[0mSeries\u001b[0m\u001b[1;33m,\u001b[0m \u001b[0mnp\u001b[0m\u001b[1;33m.\u001b[0m\u001b[0mndarray\u001b[0m\u001b[1;33m,\u001b[0m \u001b[0mIndex\u001b[0m\u001b[1;33m,\u001b[0m \u001b[0mlist\u001b[0m\u001b[1;33m)\u001b[0m\u001b[1;33m)\u001b[0m\u001b[1;33m:\u001b[0m\u001b[1;33m\u001b[0m\u001b[1;33m\u001b[0m\u001b[0m\n\u001b[0;32m   2681\u001b[0m             \u001b[1;31m# either boolean or fancy integer index\u001b[0m\u001b[1;33m\u001b[0m\u001b[1;33m\u001b[0m\u001b[1;33m\u001b[0m\u001b[0m\n\u001b[1;32m-> 2682\u001b[1;33m             \u001b[1;32mreturn\u001b[0m \u001b[0mself\u001b[0m\u001b[1;33m.\u001b[0m\u001b[0m_getitem_array\u001b[0m\u001b[1;33m(\u001b[0m\u001b[0mkey\u001b[0m\u001b[1;33m)\u001b[0m\u001b[1;33m\u001b[0m\u001b[1;33m\u001b[0m\u001b[0m\n\u001b[0m\u001b[0;32m   2683\u001b[0m         \u001b[1;32melif\u001b[0m \u001b[0misinstance\u001b[0m\u001b[1;33m(\u001b[0m\u001b[0mkey\u001b[0m\u001b[1;33m,\u001b[0m \u001b[0mDataFrame\u001b[0m\u001b[1;33m)\u001b[0m\u001b[1;33m:\u001b[0m\u001b[1;33m\u001b[0m\u001b[1;33m\u001b[0m\u001b[0m\n\u001b[0;32m   2684\u001b[0m             \u001b[1;32mreturn\u001b[0m \u001b[0mself\u001b[0m\u001b[1;33m.\u001b[0m\u001b[0m_getitem_frame\u001b[0m\u001b[1;33m(\u001b[0m\u001b[0mkey\u001b[0m\u001b[1;33m)\u001b[0m\u001b[1;33m\u001b[0m\u001b[1;33m\u001b[0m\u001b[0m\n",
      "\u001b[1;32mc:\\python3\\lib\\site-packages\\pandas\\core\\frame.py\u001b[0m in \u001b[0;36m_getitem_array\u001b[1;34m(self, key)\u001b[0m\n\u001b[0;32m   2724\u001b[0m             \u001b[1;32mreturn\u001b[0m \u001b[0mself\u001b[0m\u001b[1;33m.\u001b[0m\u001b[0m_take\u001b[0m\u001b[1;33m(\u001b[0m\u001b[0mindexer\u001b[0m\u001b[1;33m,\u001b[0m \u001b[0maxis\u001b[0m\u001b[1;33m=\u001b[0m\u001b[1;36m0\u001b[0m\u001b[1;33m)\u001b[0m\u001b[1;33m\u001b[0m\u001b[1;33m\u001b[0m\u001b[0m\n\u001b[0;32m   2725\u001b[0m         \u001b[1;32melse\u001b[0m\u001b[1;33m:\u001b[0m\u001b[1;33m\u001b[0m\u001b[1;33m\u001b[0m\u001b[0m\n\u001b[1;32m-> 2726\u001b[1;33m             \u001b[0mindexer\u001b[0m \u001b[1;33m=\u001b[0m \u001b[0mself\u001b[0m\u001b[1;33m.\u001b[0m\u001b[0mloc\u001b[0m\u001b[1;33m.\u001b[0m\u001b[0m_convert_to_indexer\u001b[0m\u001b[1;33m(\u001b[0m\u001b[0mkey\u001b[0m\u001b[1;33m,\u001b[0m \u001b[0maxis\u001b[0m\u001b[1;33m=\u001b[0m\u001b[1;36m1\u001b[0m\u001b[1;33m)\u001b[0m\u001b[1;33m\u001b[0m\u001b[1;33m\u001b[0m\u001b[0m\n\u001b[0m\u001b[0;32m   2727\u001b[0m             \u001b[1;32mreturn\u001b[0m \u001b[0mself\u001b[0m\u001b[1;33m.\u001b[0m\u001b[0m_take\u001b[0m\u001b[1;33m(\u001b[0m\u001b[0mindexer\u001b[0m\u001b[1;33m,\u001b[0m \u001b[0maxis\u001b[0m\u001b[1;33m=\u001b[0m\u001b[1;36m1\u001b[0m\u001b[1;33m)\u001b[0m\u001b[1;33m\u001b[0m\u001b[1;33m\u001b[0m\u001b[0m\n\u001b[0;32m   2728\u001b[0m \u001b[1;33m\u001b[0m\u001b[0m\n",
      "\u001b[1;32mc:\\python3\\lib\\site-packages\\pandas\\core\\indexing.py\u001b[0m in \u001b[0;36m_convert_to_indexer\u001b[1;34m(self, obj, axis, is_setter)\u001b[0m\n\u001b[0;32m   1325\u001b[0m                 \u001b[1;32mif\u001b[0m \u001b[0mmask\u001b[0m\u001b[1;33m.\u001b[0m\u001b[0many\u001b[0m\u001b[1;33m(\u001b[0m\u001b[1;33m)\u001b[0m\u001b[1;33m:\u001b[0m\u001b[1;33m\u001b[0m\u001b[1;33m\u001b[0m\u001b[0m\n\u001b[0;32m   1326\u001b[0m                     raise KeyError('{mask} not in index'\n\u001b[1;32m-> 1327\u001b[1;33m                                    .format(mask=objarr[mask]))\n\u001b[0m\u001b[0;32m   1328\u001b[0m \u001b[1;33m\u001b[0m\u001b[0m\n\u001b[0;32m   1329\u001b[0m                 \u001b[1;32mreturn\u001b[0m \u001b[0mcom\u001b[0m\u001b[1;33m.\u001b[0m\u001b[0m_values_from_object\u001b[0m\u001b[1;33m(\u001b[0m\u001b[0mindexer\u001b[0m\u001b[1;33m)\u001b[0m\u001b[1;33m\u001b[0m\u001b[1;33m\u001b[0m\u001b[0m\n",
      "\u001b[1;31mKeyError\u001b[0m: \"['Project_ID' 'Task_Id'] not in index\""
     ]
    }
   ],
   "source": [
    "df1= df[['Project_ID', 'Task_Id']] \n"
   ]
  },
  {
   "cell_type": "code",
   "execution_count": null,
   "metadata": {},
   "outputs": [],
   "source": [
    "status,whereclause =SqlDBUtil.generate_where_clause_string(df1[0:5])"
   ]
  },
  {
   "cell_type": "code",
   "execution_count": 52,
   "metadata": {},
   "outputs": [
    {
     "data": {
      "text/plain": [
       "[\"(Project_ID = '1120' AND Task_Id = '312378') OR (Project_ID = '1120' AND Task_Id = '312379') OR (Project_ID = '1120' AND Task_Id = '312380') OR (Project_ID = '1120' AND Task_Id = '312382') OR (Project_ID = '1120' AND Task_Id = '362351')\"]"
      ]
     },
     "execution_count": 52,
     "metadata": {},
     "output_type": "execute_result"
    }
   ],
   "source": [
    "whereclause"
   ]
  },
  {
   "cell_type": "code",
   "execution_count": 53,
   "metadata": {},
   "outputs": [],
   "source": [
    "task_already_created_query = \"SELECT TOP 1000 [Task_Id]  FROM [Experi1].[dbo].[Sirius_Task_Info] where \" + \" OR \".join(whereclause)"
   ]
  },
  {
   "cell_type": "code",
   "execution_count": 54,
   "metadata": {},
   "outputs": [
    {
     "data": {
      "text/plain": [
       "\"SELECT TOP 1000 [Task_Id]  FROM [Experi1].[dbo].[Sirius_Task_Info] where (Project_ID = '1120' AND Task_Id = '312378') OR (Project_ID = '1120' AND Task_Id = '312379') OR (Project_ID = '1120' AND Task_Id = '312380') OR (Project_ID = '1120' AND Task_Id = '312382') OR (Project_ID = '1120' AND Task_Id = '362351')\""
      ]
     },
     "execution_count": 54,
     "metadata": {},
     "output_type": "execute_result"
    }
   ],
   "source": [
    "task_already_created_query"
   ]
  },
  {
   "cell_type": "code",
   "execution_count": 55,
   "metadata": {},
   "outputs": [],
   "source": [
    "status , result =SqlDBUtil.execute_select_query_get_df2(task_already_created_query,SqlDBUtil.IT_PROD_SQL174)"
   ]
  },
  {
   "cell_type": "code",
   "execution_count": 63,
   "metadata": {},
   "outputs": [
    {
     "data": {
      "text/plain": [
       "0    312378\n",
       "1    312379\n",
       "Name: Task_Id, dtype: int64"
      ]
     },
     "execution_count": 63,
     "metadata": {},
     "output_type": "execute_result"
    }
   ],
   "source": [
    "result['Task_Id']\n"
   ]
  },
  {
   "cell_type": "code",
   "execution_count": 69,
   "metadata": {},
   "outputs": [],
   "source": [
    "x= df[~df.Task_Id.isin(result.Task_Id)]"
   ]
  },
  {
   "cell_type": "code",
   "execution_count": 70,
   "metadata": {},
   "outputs": [
    {
     "data": {
      "text/plain": [
       "98"
      ]
     },
     "execution_count": 70,
     "metadata": {},
     "output_type": "execute_result"
    }
   ],
   "source": [
    "len(x)"
   ]
  },
  {
   "cell_type": "code",
   "execution_count": null,
   "metadata": {},
   "outputs": [],
   "source": []
  },
  {
   "cell_type": "code",
   "execution_count": null,
   "metadata": {},
   "outputs": [],
   "source": []
  },
  {
   "cell_type": "code",
   "execution_count": 22,
   "metadata": {},
   "outputs": [],
   "source": [
    "getOpenTaskURL = 'http://hqswqadb02/DevTestDBAPI/api/WorkProject/GetTaskIDsForUser'"
   ]
  },
  {
   "cell_type": "code",
   "execution_count": 23,
   "metadata": {},
   "outputs": [],
   "source": [
    "req ='hlahoti'"
   ]
  },
  {
   "cell_type": "code",
   "execution_count": 24,
   "metadata": {},
   "outputs": [],
   "source": [
    "pid='1120'"
   ]
  },
  {
   "cell_type": "code",
   "execution_count": 26,
   "metadata": {},
   "outputs": [],
   "source": [
    " Jsonresponse=requests.get(getOpenTaskURL, params = {\"wrkProjectId\": 1120, \"username\": 'hlahoti',\"isclosed\":'no'})"
   ]
  },
  {
   "cell_type": "code",
   "execution_count": 42,
   "metadata": {},
   "outputs": [
    {
     "data": {
      "text/plain": [
       "799"
      ]
     },
     "execution_count": 42,
     "metadata": {},
     "output_type": "execute_result"
    }
   ],
   "source": [
    "response = json.loads(Jsonresponse.text)\n"
   ]
  },
  {
   "cell_type": "code",
   "execution_count": 47,
   "metadata": {},
   "outputs": [
    {
     "data": {
      "text/plain": [
       "'[363877, 363712, 363890, 363714, 363891, 363716, 363892, 363688, 363878]'"
      ]
     },
     "execution_count": 47,
     "metadata": {},
     "output_type": "execute_result"
    }
   ],
   "source": [
    "taskid =str(response[1:10])\n",
    "taskid"
   ]
  },
  {
   "cell_type": "code",
   "execution_count": 45,
   "metadata": {},
   "outputs": [
    {
     "data": {
      "text/plain": [
       "'SELECT TOP 1000 \\n      [Task_Id]  FROM [Experi1].[dbo].[Sirius_Task_Info] where [Project_ID] = 1120 and [Task_Id] in [363877, 363712, 363890, 363714, 363891, 363716, 363892, 363688, 363878]'"
      ]
     },
     "execution_count": 45,
     "metadata": {},
     "output_type": "execute_result"
    }
   ],
   "source": [
    "query = \"\"\"SELECT TOP 100 [ProjectID],[IssueID],[TestTemplateID],[IssueTitle]\n",
    "            ,[EnvironmentInfo],FieldVarcharLong7, DevtestDB2.dbo.GetTestTempFolderPath(1072,TestTemplateID,TestTaskFolderID) as TempFolderPath       \n",
    "            FROM [DevtestDB2].[dbo].[TestTaskGeneralInfo] WITH(NOLOCK)\n",
    "            where ProjectID = '{}' and  IfClosed = 0 and [FieldVarcharLong7] is not NULL and\n",
    "            CrntOwnerID in (SELECT [LoginID] FROM [DevtestDB2].[dbo].[LoginAccount]   where LoginName ='{}')\"\"\".format(release,requester)\n",
    "cursor.execute(query)\n",
    "row = cursor.fetchall()\n"
   ]
  },
  {
   "cell_type": "code",
   "execution_count": 44,
   "metadata": {},
   "outputs": [
    {
     "ename": "ProgrammingError",
     "evalue": "('42000', \"[42000] [Microsoft][ODBC Driver 13 for SQL Server][SQL Server]Incorrect syntax near '363877, 363712, 363890, 363714, 363891, 363716, 363892, 363688, 363878'. (102) (SQLExecDirectW)\")",
     "output_type": "error",
     "traceback": [
      "\u001b[1;31m---------------------------------------------------------------------------\u001b[0m",
      "\u001b[1;31mProgrammingError\u001b[0m                          Traceback (most recent call last)",
      "\u001b[1;32m<ipython-input-44-353db20340b7>\u001b[0m in \u001b[0;36m<module>\u001b[1;34m\u001b[0m\n\u001b[0;32m      3\u001b[0m query = \"\"\"SELECT TOP 1000 \n\u001b[0;32m      4\u001b[0m       [Task_Id]  FROM [Experi1].[dbo].[Sirius_Task_Info] where [Project_ID] = {} and [Task_Id] in {}\"\"\".format(pid,response[1:10])\n\u001b[1;32m----> 5\u001b[1;33m \u001b[0mcursor\u001b[0m\u001b[1;33m.\u001b[0m\u001b[0mexecute\u001b[0m\u001b[1;33m(\u001b[0m\u001b[0mquery\u001b[0m\u001b[1;33m)\u001b[0m\u001b[1;33m\u001b[0m\u001b[1;33m\u001b[0m\u001b[0m\n\u001b[0m\u001b[0;32m      6\u001b[0m \u001b[0mrow\u001b[0m \u001b[1;33m=\u001b[0m \u001b[0mcursor\u001b[0m\u001b[1;33m.\u001b[0m\u001b[0mfetchall\u001b[0m\u001b[1;33m(\u001b[0m\u001b[1;33m)\u001b[0m\u001b[1;33m\u001b[0m\u001b[1;33m\u001b[0m\u001b[0m\n",
      "\u001b[1;31mProgrammingError\u001b[0m: ('42000', \"[42000] [Microsoft][ODBC Driver 13 for SQL Server][SQL Server]Incorrect syntax near '363877, 363712, 363890, 363714, 363891, 363716, 363892, 363688, 363878'. (102) (SQLExecDirectW)\")"
     ]
    }
   ],
   "source": [
    "cnxn = pyodbc.connect('Driver={ODBC Driver 13 for SQL Server};''Server=RNNVSQL174;''UID=wbt_user;''PWD=wbt_user@123;')\n",
    "cursor = cnxn.cursor()\n",
    "query = \"\"\"SELECT TOP 1000 \n",
    "      [Task_Id]  FROM [Experi1].[dbo].[Sirius_Task_Info] where [Project_ID] = {} and [Task_Id] in {}\"\"\".format(pid,response[1:10])\n",
    "cursor.execute(query) \n",
    "row = cursor.fetchall()"
   ]
  },
  {
   "cell_type": "code",
   "execution_count": null,
   "metadata": {},
   "outputs": [],
   "source": []
  },
  {
   "cell_type": "code",
   "execution_count": 38,
   "metadata": {},
   "outputs": [
    {
     "data": {
      "text/plain": [
       "[[312378], [312379]]"
      ]
     },
     "execution_count": 38,
     "metadata": {},
     "output_type": "execute_result"
    }
   ],
   "source": [
    "listofdata = [list(x) for x in row]\n",
    "listofdata"
   ]
  },
  {
   "cell_type": "code",
   "execution_count": null,
   "metadata": {},
   "outputs": [],
   "source": []
  },
  {
   "cell_type": "code",
   "execution_count": null,
   "metadata": {},
   "outputs": [],
   "source": []
  },
  {
   "cell_type": "code",
   "execution_count": null,
   "metadata": {},
   "outputs": [],
   "source": []
  },
  {
   "cell_type": "code",
   "execution_count": null,
   "metadata": {},
   "outputs": [],
   "source": []
  },
  {
   "cell_type": "code",
   "execution_count": null,
   "metadata": {},
   "outputs": [],
   "source": []
  },
  {
   "cell_type": "code",
   "execution_count": null,
   "metadata": {},
   "outputs": [],
   "source": []
  },
  {
   "cell_type": "code",
   "execution_count": null,
   "metadata": {},
   "outputs": [],
   "source": []
  },
  {
   "cell_type": "code",
   "execution_count": null,
   "metadata": {},
   "outputs": [],
   "source": []
  },
  {
   "cell_type": "code",
   "execution_count": null,
   "metadata": {},
   "outputs": [],
   "source": []
  },
  {
   "cell_type": "code",
   "execution_count": 16,
   "metadata": {},
   "outputs": [],
   "source": [
    "query = \"\"\"SELECT TOP 100 [ProjectID],[IssueID],[TestTemplateID],[IssueTitle]\n",
    "            ,[EnvironmentInfo],FieldVarcharLong7, DevtestDB2.dbo.GetTestTempFolderPath(1072,TestTemplateID,TestTaskFolderID) as TempFolderPath       \n",
    "            FROM [DevtestDB2].[dbo].[TestTaskGeneralInfo]\n",
    "            where ProjectID = '{}' and  IfClosed = 0 and [FieldVarcharLong7] is not NULL and\n",
    "            CrntOwnerID in (SELECT [LoginID] FROM [DevtestDB2].[dbo].[LoginAccount]   where LoginName ='{}')\"\"\".format(pid,req)\n",
    "    "
   ]
  },
  {
   "cell_type": "code",
   "execution_count": 17,
   "metadata": {},
   "outputs": [
    {
     "data": {
      "text/plain": [
       "\"SELECT TOP 100 [ProjectID],[IssueID],[TestTemplateID],[IssueTitle]\\n            ,[EnvironmentInfo],FieldVarcharLong7, DevtestDB2.dbo.GetTestTempFolderPath(1072,TestTemplateID,TestTaskFolderID) as TempFolderPath       \\n            FROM [DevtestDB2].[dbo].[TestTaskGeneralInfo]\\n            where ProjectID = '1120' and  IfClosed = 0 and [FieldVarcharLong7] is not NULL and\\n            CrntOwnerID in (SELECT [LoginID] FROM [DevtestDB2].[dbo].[LoginAccount]   where LoginName ='hlahoti')\""
      ]
     },
     "execution_count": 17,
     "metadata": {},
     "output_type": "execute_result"
    }
   ],
   "source": [
    "query"
   ]
  },
  {
   "cell_type": "code",
   "execution_count": 4,
   "metadata": {},
   "outputs": [
    {
     "ename": "OSError",
     "evalue": "illegal IP address string passed to inet_aton",
     "output_type": "error",
     "traceback": [
      "\u001b[1;31m---------------------------------------------------------------------------\u001b[0m",
      "\u001b[1;31mOSError\u001b[0m                                   Traceback (most recent call last)",
      "\u001b[1;32m<ipython-input-4-aade95bdad4d>\u001b[0m in \u001b[0;36m<module>\u001b[1;34m\u001b[0m\n\u001b[1;32m----> 1\u001b[1;33m \u001b[0msocket\u001b[0m\u001b[1;33m.\u001b[0m\u001b[0minet_aton\u001b[0m\u001b[1;33m(\u001b[0m\u001b[1;34m'gpuswqa-host'\u001b[0m\u001b[1;33m)\u001b[0m\u001b[1;33m\u001b[0m\u001b[1;33m\u001b[0m\u001b[0m\n\u001b[0m",
      "\u001b[1;31mOSError\u001b[0m: illegal IP address string passed to inet_aton"
     ]
    }
   ],
   "source": [
    "socket.inet_aton('gpuswqa-host')"
   ]
  },
  {
   "cell_type": "code",
   "execution_count": null,
   "metadata": {},
   "outputs": [],
   "source": []
  },
  {
   "cell_type": "code",
   "execution_count": null,
   "metadata": {},
   "outputs": [],
   "source": []
  },
  {
   "cell_type": "code",
   "execution_count": null,
   "metadata": {},
   "outputs": [],
   "source": []
  },
  {
   "cell_type": "code",
   "execution_count": null,
   "metadata": {},
   "outputs": [],
   "source": []
  },
  {
   "cell_type": "code",
   "execution_count": 7,
   "metadata": {},
   "outputs": [
    {
     "data": {
      "text/plain": [
       "'0299cecf-e48b-4940-b313-1085208bf81d'"
      ]
     },
     "execution_count": 7,
     "metadata": {},
     "output_type": "execute_result"
    }
   ],
   "source": [
    "jobGuid"
   ]
  },
  {
   "cell_type": "code",
   "execution_count": 8,
   "metadata": {},
   "outputs": [],
   "source": [
    "cnxn = pyodbc.connect('Driver={ODBC Driver 13 for SQL Server};''Server=RNDVSQL174;''UID=wbt_user;''PWD=wbt_user@123;')\n",
    "cursor = cnxn.cursor()"
   ]
  },
  {
   "cell_type": "code",
   "execution_count": null,
   "metadata": {},
   "outputs": [],
   "source": [
    "query = \"\"\"INSERT INTO [dbo].[Sirius_Job_Table]\n",
    "           ([Submission_Id]\n",
    "         \n",
    "           ,[Template_Id]\n",
    "           ,[Sequence]\n",
    "           \n",
    "           ,[JobGuid])\n",
    "     VALUES\n",
    "           (1,'123','11-23-33',\n",
    "           ,fier,>)\n",
    "\"\"\""
   ]
  },
  {
   "cell_type": "code",
   "execution_count": 34,
   "metadata": {},
   "outputs": [],
   "source": [
    "cnxn = pyodbc.connect('Driver={ODBC Driver 13 for SQL Server};''Server=RNDVSQL174;''UID=wbt_user;''PWD=wbt_user@123;')\n",
    "cursor = cnxn.cursor()\n",
    "query = \"\"\"SELECT TOP 1000 SSG.[Submission_Group_Id],[Submission_Id]\n",
    "        ,[Submission_Status]  ,[Machine]      ,[Requester]\n",
    "  FROM [Experi1].[dbo].[Sirius_Submission] SS left join [Experi1].[dbo].[Sirius_Submission_Group] SSG \n",
    "  on SSG.[Submission_Group_Id] = SS.[Submission_Group_Id]\"\"\"\n",
    "cursor.execute(query)\n",
    "row = cursor.fetchall()\n",
    "listofdata = [list(x) for x in row]\n",
    "if(row):\n",
    "        GetResultTableDF = pd.DataFrame(listofdata)\n",
    "        GetResultTableDF.fillna(value=\"-123\", inplace=True)\n",
    "      "
   ]
  },
  {
   "cell_type": "code",
   "execution_count": 35,
   "metadata": {},
   "outputs": [],
   "source": [
    " GetResultTableDF.columns = ['Submission_Group_Id','Submission_Id','Submission_Status','Machine' ,'Requester']"
   ]
  },
  {
   "cell_type": "code",
   "execution_count": 36,
   "metadata": {},
   "outputs": [],
   "source": [
    "GetResultTableDF['Name'] =\"sub\""
   ]
  },
  {
   "cell_type": "code",
   "execution_count": 17,
   "metadata": {},
   "outputs": [],
   "source": [
    "trial=GetResultTableDF.set_index('Name')"
   ]
  },
  {
   "cell_type": "code",
   "execution_count": 37,
   "metadata": {},
   "outputs": [],
   "source": [
    "Jsondata=GetResultTableDF.to_json(orient ='records')"
   ]
  },
  {
   "cell_type": "code",
   "execution_count": 38,
   "metadata": {},
   "outputs": [
    {
     "data": {
      "text/plain": [
       "'[{\"Submission_Group_Id\":20217,\"Submission_Id\":20537,\"Submission_Status\":\"Queued\",\"Machine\":\"gpuswqa-host\",\"Requester\":\"hlahoti\",\"Name\":\"sub\"},{\"Submission_Group_Id\":20218,\"Submission_Id\":20538,\"Submission_Status\":\"Queued\",\"Machine\":\"gpuswqa-host\",\"Requester\":\"hlahoti\",\"Name\":\"sub\"}]'"
      ]
     },
     "execution_count": 38,
     "metadata": {},
     "output_type": "execute_result"
    }
   ],
   "source": [
    "Jsondata"
   ]
  },
  {
   "cell_type": "code",
   "execution_count": 39,
   "metadata": {},
   "outputs": [],
   "source": [
    "Jsondata=GetResultTableDF.to_json(orient ='index')"
   ]
  },
  {
   "cell_type": "code",
   "execution_count": 40,
   "metadata": {},
   "outputs": [
    {
     "data": {
      "text/plain": [
       "'{\"0\":{\"Submission_Group_Id\":20217,\"Submission_Id\":20537,\"Submission_Status\":\"Queued\",\"Machine\":\"gpuswqa-host\",\"Requester\":\"hlahoti\",\"Name\":\"sub\"},\"1\":{\"Submission_Group_Id\":20218,\"Submission_Id\":20538,\"Submission_Status\":\"Queued\",\"Machine\":\"gpuswqa-host\",\"Requester\":\"hlahoti\",\"Name\":\"sub\"}}'"
      ]
     },
     "execution_count": 40,
     "metadata": {},
     "output_type": "execute_result"
    }
   ],
   "source": [
    "Jsondata"
   ]
  },
  {
   "cell_type": "code",
   "execution_count": 25,
   "metadata": {},
   "outputs": [],
   "source": [
    "Jsondata = json.loads(Jsondata)"
   ]
  },
  {
   "cell_type": "code",
   "execution_count": 27,
   "metadata": {},
   "outputs": [
    {
     "data": {
      "text/plain": [
       "dict"
      ]
     },
     "execution_count": 27,
     "metadata": {},
     "output_type": "execute_result"
    }
   ],
   "source": [
    "type(Jsondata)"
   ]
  },
  {
   "cell_type": "code",
   "execution_count": 30,
   "metadata": {},
   "outputs": [],
   "source": [
    "Jsondata[\"sub\"]= Jsondata.pop(\"0\")"
   ]
  },
  {
   "cell_type": "code",
   "execution_count": 32,
   "metadata": {},
   "outputs": [
    {
     "data": {
      "text/plain": [
       "{'1': {'0': 20218,\n",
       "  '1': 20538,\n",
       "  '2': 'Queued',\n",
       "  '3': 'gpuswqa-host',\n",
       "  '4': 'hlahoti',\n",
       "  'Name': 'sub'},\n",
       " 'sub': {'0': 20217,\n",
       "  '1': 20537,\n",
       "  '2': 'Queued',\n",
       "  '3': 'gpuswqa-host',\n",
       "  '4': 'hlahoti',\n",
       "  'Name': 'sub'}}"
      ]
     },
     "execution_count": 32,
     "metadata": {},
     "output_type": "execute_result"
    }
   ],
   "source": [
    "Jsondata"
   ]
  },
  {
   "cell_type": "code",
   "execution_count": null,
   "metadata": {},
   "outputs": [],
   "source": []
  }
 ],
 "metadata": {
  "kernelspec": {
   "display_name": "Python 3",
   "language": "python",
   "name": "python3"
  },
  "language_info": {
   "codemirror_mode": {
    "name": "ipython",
    "version": 3
   },
   "file_extension": ".py",
   "mimetype": "text/x-python",
   "name": "python",
   "nbconvert_exporter": "python",
   "pygments_lexer": "ipython3",
   "version": "3.7.2"
  }
 },
 "nbformat": 4,
 "nbformat_minor": 2
}
