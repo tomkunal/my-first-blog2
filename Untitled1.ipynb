{
 "cells": [
  {
   "cell_type": "code",
   "execution_count": null,
   "metadata": {},
   "outputs": [],
   "source": []
  },
  {
   "cell_type": "code",
   "execution_count": 35,
   "metadata": {},
   "outputs": [],
   "source": []
  },
  {
   "cell_type": "code",
   "execution_count": 82,
   "metadata": {},
   "outputs": [],
   "source": [
    "num = {}"
   ]
  },
  {
   "cell_type": "code",
   "execution_count": null,
   "metadata": {},
   "outputs": [],
   "source": []
  },
  {
   "cell_type": "code",
   "execution_count": 120,
   "metadata": {},
   "outputs": [],
   "source": [
    "a = [2,14,18,22,22]"
   ]
  },
  {
   "cell_type": "code",
   "execution_count": 123,
   "metadata": {},
   "outputs": [],
   "source": [
    "def duplicate():    \n",
    "    num = {}\n",
    "    c = False\n",
    "    for i in range(0,len(a)):\n",
    "        num[a[i]] = 0\n",
    "    for i in range(0,len(a)):\n",
    "        num[a[i]] = num[a[i]] + 1\n",
    "    print(num)\n",
    "    for i in num:\n",
    "        if num[i] > 1 :\n",
    "            c = True\n",
    "    \n",
    "    return c"
   ]
  },
  {
   "cell_type": "code",
   "execution_count": 124,
   "metadata": {},
   "outputs": [
    {
     "name": "stdout",
     "output_type": "stream",
     "text": [
      "{2: 1, 14: 1, 18: 1, 22: 2}\n"
     ]
    },
    {
     "data": {
      "text/plain": [
       "True"
      ]
     },
     "execution_count": 124,
     "metadata": {},
     "output_type": "execute_result"
    }
   ],
   "source": [
    "\n",
    "duplicate()\n"
   ]
  },
  {
   "cell_type": "code",
   "execution_count": 71,
   "metadata": {},
   "outputs": [],
   "source": [
    "a = [0,4,1,3,0,4,0]"
   ]
  },
  {
   "cell_type": "code",
   "execution_count": 90,
   "metadata": {},
   "outputs": [
    {
     "name": "stdout",
     "output_type": "stream",
     "text": [
      "11 -2\n",
      "2 7\n",
      "7 2\n",
      "15 -6\n"
     ]
    }
   ],
   "source": [
    "arr=[11,2,7,15]\n",
    "target=9\n",
    "num={}\n",
    "req=[]\n",
    "for i in range(len(arr)):\n",
    "    num[arr[i]]= 1        #for this key ,assign value as array element\n",
    "\n",
    "\n",
    "for key in num.items() :\n",
    "    \n",
    "    \n",
    "\n"
   ]
  },
  {
   "cell_type": "code",
   "execution_count": 82,
   "metadata": {},
   "outputs": [
    {
     "data": {
      "text/plain": [
       "<function dict.items>"
      ]
     },
     "execution_count": 82,
     "metadata": {},
     "output_type": "execute_result"
    }
   ],
   "source": [
    "num.items"
   ]
  },
  {
   "cell_type": "code",
   "execution_count": 85,
   "metadata": {},
   "outputs": [
    {
     "name": "stdout",
     "output_type": "stream",
     "text": [
      "0 11\n",
      "1 2\n",
      "2 7\n",
      "3 15\n"
     ]
    }
   ],
   "source": [
    "for key,value in num.items() :\n",
    "    print(key,value)"
   ]
  },
  {
   "cell_type": "code",
   "execution_count": 72,
   "metadata": {},
   "outputs": [],
   "source": [
    "i = 0\n",
    "j = i+1\n"
   ]
  },
  {
   "cell_type": "code",
   "execution_count": 3,
   "metadata": {},
   "outputs": [
    {
     "data": {
      "text/plain": [
       "2"
      ]
     },
     "execution_count": 3,
     "metadata": {},
     "output_type": "execute_result"
    }
   ],
   "source": [
    "nums[0] ^ res"
   ]
  },
  {
   "cell_type": "code",
   "execution_count": 6,
   "metadata": {},
   "outputs": [],
   "source": [
    "res = 0\n",
    "nums = [2,2,1,3,1]\n",
    "for i in range(len(nums)):\n",
    "    res = res ^ nums[i]\n"
   ]
  },
  {
   "cell_type": "code",
   "execution_count": 7,
   "metadata": {},
   "outputs": [
    {
     "data": {
      "text/plain": [
       "3"
      ]
     },
     "execution_count": 7,
     "metadata": {},
     "output_type": "execute_result"
    }
   ],
   "source": [
    "res"
   ]
  },
  {
   "cell_type": "code",
   "execution_count": 74,
   "metadata": {},
   "outputs": [
    {
     "data": {
      "text/plain": [
       "[4, 1, 3, 4, 0, 0, 0]"
      ]
     },
     "execution_count": 74,
     "metadata": {},
     "output_type": "execute_result"
    }
   ],
   "source": [
    "a"
   ]
  },
  {
   "cell_type": "code",
   "execution_count": 45,
   "metadata": {},
   "outputs": [
    {
     "name": "stdout",
     "output_type": "stream",
     "text": [
      "0 0\n",
      "[0, 4, 1, 3, 0, 4, 0]\n",
      "0 4\n",
      "bvhs\n",
      "[4, 4, 1, 3, 0, 0, 0]\n",
      "4 0\n",
      "[4, 4, 1, 3, 0, 0, 0]\n",
      "1 0\n",
      "[4, 4, 1, 3, 0, 0, 0]\n",
      "3 0\n",
      "[4, 4, 1, 3, 0, 0, 0]\n"
     ]
    }
   ],
   "source": [
    "while( i < j):\n",
    "    if(a[i]!= 0 and a[j] != 0):\n",
    "        i = i + 1 \n",
    "    elif(a[i]== 0 and a[j] == 0):\n",
    "        j = j- 1\n",
    "    elif(a[i]!= 0 and a[j] == 0):\n",
    "        i = i + 1\n",
    "    else:\n",
    "        print(\"bvhs\")\n",
    "        temp = a[i]\n",
    "        a[i] = a[j]\n",
    "        a[j] =  temp\n",
    "        i = i + 1 \n",
    "        j = j - 1\n",
    "\n",
    "        \n",
    "    \n"
   ]
  },
  {
   "cell_type": "code",
   "execution_count": 36,
   "metadata": {},
   "outputs": [
    {
     "data": {
      "text/plain": [
       "[4, 4, 1, 3, 0, 0, 0]"
      ]
     },
     "execution_count": 36,
     "metadata": {},
     "output_type": "execute_result"
    }
   ],
   "source": [
    "a"
   ]
  },
  {
   "cell_type": "code",
   "execution_count": null,
   "metadata": {},
   "outputs": [],
   "source": []
  },
  {
   "cell_type": "code",
   "execution_count": 25,
   "metadata": {},
   "outputs": [],
   "source": [
    "x=[1,2,3,4]\n",
    "s=0"
   ]
  },
  {
   "cell_type": "code",
   "execution_count": 26,
   "metadata": {},
   "outputs": [
    {
     "name": "stdout",
     "output_type": "stream",
     "text": [
      "1000\n",
      "1200\n",
      "1230\n",
      "1234\n"
     ]
    }
   ],
   "source": [
    "for i in range(len(x)) :\n",
    "    j = len(x) - i - 1\n",
    "    s = (x[i] * (10**j)) + s\n",
    "    print(s)\n",
    "s = s + 1    \n",
    "z = [int(q) for q in str(s)]"
   ]
  },
  {
   "cell_type": "code",
   "execution_count": 28,
   "metadata": {},
   "outputs": [],
   "source": [
    "def palin(finalstring):\n",
    "    sent = []\n",
    "    for i in finalstring:\n",
    "        if ((122>=ord(i)>=97)or(90>=ord(i)>=65)):\n",
    "             sent.append(i)\n",
    "    n=len(sent)\n",
    "    i=0\n",
    "    j=n-1\n",
    "    while i<j:\n",
    "        if sent[i]==sent[j] :\n",
    "            flag=1\n",
    "            i=i+1\n",
    "            j=j-1\n",
    "        else:\n",
    "            flag=0\n",
    "            break\n",
    "    return flag\n",
    "\n"
   ]
  },
  {
   "cell_type": "code",
   "execution_count": 31,
   "metadata": {},
   "outputs": [],
   "source": [
    "finalstring = \"A man, a plan, a canal: Panama\""
   ]
  },
  {
   "cell_type": "code",
   "execution_count": 32,
   "metadata": {},
   "outputs": [],
   "source": [
    "sent = []\n",
    "for i in finalstring:\n",
    "    if ((122>=ord(i)>=97)or(90>=ord(i)>=65)):\n",
    "         sent.append(i)"
   ]
  },
  {
   "cell_type": "code",
   "execution_count": 33,
   "metadata": {},
   "outputs": [
    {
     "name": "stdout",
     "output_type": "stream",
     "text": [
      "['A', 'm', 'a', 'n', 'a', 'p', 'l', 'a', 'n', 'a', 'c', 'a', 'n', 'a', 'l', 'P', 'a', 'n', 'a', 'm', 'a']\n"
     ]
    }
   ],
   "source": [
    "print(sent)"
   ]
  },
  {
   "cell_type": "code",
   "execution_count": null,
   "metadata": {},
   "outputs": [],
   "source": []
  }
 ],
 "metadata": {
  "kernelspec": {
   "display_name": "Python 3",
   "language": "python",
   "name": "python3"
  },
  "language_info": {
   "codemirror_mode": {
    "name": "ipython",
    "version": 3
   },
   "file_extension": ".py",
   "mimetype": "text/x-python",
   "name": "python",
   "nbconvert_exporter": "python",
   "pygments_lexer": "ipython3",
   "version": "3.7.2"
  }
 },
 "nbformat": 4,
 "nbformat_minor": 2
}
